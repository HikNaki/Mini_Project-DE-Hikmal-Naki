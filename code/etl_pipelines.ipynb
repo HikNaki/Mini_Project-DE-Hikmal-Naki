{
 "cells": [
  {
   "cell_type": "markdown",
   "metadata": {},
   "source": [
    "# ETL Pipelines"
   ]
  },
  {
   "cell_type": "code",
   "execution_count": null,
   "metadata": {},
   "outputs": [],
   "source": [
    "import os\n",
    "import sqlite3\n",
    "import requests\n",
    "import numpy as np\n",
    "import pandas as pd\n",
    "import seaborn as sns\n",
    "import firebase_admin\n",
    "from openai import OpenAI\n",
    "import plotly.express as px\n",
    "from bs4 import BeautifulSoup\n",
    "from dotenv import load_dotenv\n",
    "import matplotlib.pyplot as plt\n",
    "from pycountry import countries\n",
    "from firebase_admin import storage\n",
    "from IPython.display import display\n",
    "pd.options.mode.copy_on_write = True\n",
    "from firebase_admin import credentials\n",
    "from datetime import datetime,timedelta\n",
    "from sklearn.preprocessing import StandardScaler"
   ]
  },
  {
   "cell_type": "markdown",
   "metadata": {},
   "source": [
    "## 1. Data Ingestion"
   ]
  },
  {
   "cell_type": "markdown",
   "metadata": {},
   "source": [
    "### 1.1 Extract Similar Types of Data"
   ]
  },
  {
   "cell_type": "code",
   "execution_count": null,
   "metadata": {},
   "outputs": [],
   "source": [
    "# Import Similar Types of Data from CSV File\n",
    "df1 = pd.read_csv('../data_source/mystery.csv', encoding='utf-16')\n",
    "df2 = pd.read_csv('../data_source/gdp_data.csv', skiprows=4)\n",
    "df3 = pd.read_csv('../data_source/electricity_access_percent.csv', skiprows=4)\n",
    "df4 = pd.read_csv('../data_source/rural_population_percent.csv', skiprows=4)"
   ]
  },
  {
   "cell_type": "markdown",
   "metadata": {},
   "source": [
    "### 1.2 Extract Population Data"
   ]
  },
  {
   "cell_type": "code",
   "execution_count": null,
   "metadata": {},
   "outputs": [],
   "source": [
    "# Import Population Data from CSV File\n",
    "p1 = pd.read_csv('../data_source/population_data.csv', skiprows=4)"
   ]
  },
  {
   "cell_type": "code",
   "execution_count": null,
   "metadata": {},
   "outputs": [],
   "source": [
    "# Import Population Data from Database\n",
    "conn = sqlite3.connect(\"../data_source/population_data.db\")\n",
    "p2 = pd.read_sql(\"SELECT * FROM population_data\", conn)\n",
    "conn.close()"
   ]
  },
  {
   "cell_type": "code",
   "execution_count": null,
   "metadata": {},
   "outputs": [],
   "source": [
    "# Import Population Data from XML\n",
    "with open('../data_source/population_data.xml') as file:    \n",
    "    soup = BeautifulSoup(file, 'lxml')\n",
    "    \n",
    "data = []\n",
    "for record in soup.find_all('record'):\n",
    "    record_data = {}\n",
    "    \n",
    "    for field in record.find_all('field'):\n",
    "        if field['name'] != \"Item\":\n",
    "            name = field['name']\n",
    "            value = field.text\n",
    "            record_data[name] = value\n",
    "            if field['name'] == \"Country or Area\":\n",
    "                country_code = field['key']\n",
    "                record_data['Country Code'] = country_code\n",
    "            \n",
    "\n",
    "    data.append(record_data)\n",
    "\n",
    "p3 = pd.DataFrame(data)"
   ]
  },
  {
   "cell_type": "code",
   "execution_count": null,
   "metadata": {},
   "outputs": [],
   "source": [
    "# Import Population Data from JSON\n",
    "p4 = pd.read_json('../data_source/population_data.json')"
   ]
  },
  {
   "cell_type": "markdown",
   "metadata": {},
   "source": [
    "### 1.3 Extract Projects Data"
   ]
  },
  {
   "cell_type": "code",
   "execution_count": null,
   "metadata": {},
   "outputs": [],
   "source": [
    "# Import Projects Data from CSV File\n",
    "proj = pd.read_csv('../data_source/projects_data.csv')"
   ]
  },
  {
   "cell_type": "markdown",
   "metadata": {},
   "source": [
    "### 1.4 Extract Data from API"
   ]
  },
  {
   "cell_type": "code",
   "execution_count": null,
   "metadata": {},
   "outputs": [],
   "source": [
    "api_pop = pd.read_csv(\"../data_source/api_population_data.csv\")\n",
    "api_gdp = pd.read_csv(\"../data_source/api_gdp_data.csv\")\n",
    "api_elec = pd.read_csv(\"../data_source/api_electricity_access_data.csv\")\n",
    "api_rural = pd.read_csv(\"../data_source/api_rural_population_data.csv\")"
   ]
  },
  {
   "cell_type": "code",
   "execution_count": null,
   "metadata": {},
   "outputs": [],
   "source": [
    "dfs = [api_pop, api_gdp, api_rural, api_elec]\n",
    "\n",
    "for df in dfs:\n",
    "    print(df.shape)\n",
    "    display(df.head())"
   ]
  },
  {
   "cell_type": "code",
   "execution_count": null,
   "metadata": {},
   "outputs": [],
   "source": [
    "proj = pd.read_csv('../data_source/projects_data.csv', low_memory=False)"
   ]
  },
  {
   "cell_type": "markdown",
   "metadata": {},
   "source": [
    "## 2. Data Cleansing and Transformation"
   ]
  },
  {
   "cell_type": "markdown",
   "metadata": {},
   "source": [
    "### 2.1 Define Functions"
   ]
  },
  {
   "cell_type": "code",
   "execution_count": null,
   "metadata": {},
   "outputs": [],
   "source": [
    "# Function to Clean Columns\n",
    "def clean_columns(df):\n",
    "    columns_to_remove = ['index','Unnamed', 'Indicator Name', 'Indicator Code']\n",
    "    return df.loc[:, ~df.columns.str.contains('|'.join(columns_to_remove))]"
   ]
  },
  {
   "cell_type": "code",
   "execution_count": null,
   "metadata": {},
   "outputs": [],
   "source": [
    "# Function to Melt dataframes\n",
    "def perform_melt(df, value_name):\n",
    "    return pd.melt(df, id_vars=['Country Name', 'Country Code'], var_name='Year', value_name=value_name)"
   ]
  },
  {
   "cell_type": "code",
   "execution_count": null,
   "metadata": {},
   "outputs": [],
   "source": [
    "# Function to Fill missing values\n",
    "def fill_missing_values(df):\n",
    "    numeric_columns = df.select_dtypes(include=['int64', 'float64']).columns\n",
    "    df[numeric_columns] = df[numeric_columns].bfill(axis=1).ffill(axis=1)\n",
    "    df.fillna(0, inplace=True)\n",
    "    return df"
   ]
  },
  {
   "cell_type": "code",
   "execution_count": null,
   "metadata": {},
   "outputs": [],
   "source": [
    "def fill_missing_values_elec(df):\n",
    "    numeric_columns = df.select_dtypes(include=['int64', 'float64']).columns\n",
    "    df[numeric_columns] = df[numeric_columns].ffill(axis=1)\n",
    "    df.fillna(0, inplace=True)\n",
    "    return df"
   ]
  },
  {
   "cell_type": "code",
   "execution_count": null,
   "metadata": {},
   "outputs": [],
   "source": [
    "# Function Convert Datetime to Year\n",
    "def convert_year(df):\n",
    "    df['Year'] = pd.to_datetime(df['Year']).dt.year\n",
    "    return df"
   ]
  },
  {
   "cell_type": "markdown",
   "metadata": {},
   "source": [
    "### 2.2 Process Similar Types of Data"
   ]
  },
  {
   "cell_type": "code",
   "execution_count": null,
   "metadata": {},
   "outputs": [],
   "source": [
    "[print(df['Country Name'].duplicated().sum()) for df in [df1, df2, df3, df4]]\n"
   ]
  },
  {
   "cell_type": "code",
   "execution_count": null,
   "metadata": {},
   "outputs": [],
   "source": [
    "# Clean Columns\n",
    "data_frames = [df1, df2, df3, df4]\n",
    "for i, df in enumerate(data_frames):\n",
    "    data_frames[i] = clean_columns(df)\n",
    "df1, df2, df3, df4 = data_frames"
   ]
  },
  {
   "cell_type": "code",
   "execution_count": null,
   "metadata": {},
   "outputs": [],
   "source": [
    "data_frames = [api_pop, api_gdp, api_elec, api_rural]\n",
    "\n",
    "for i, df in enumerate(data_frames):\n",
    "    data_frames[i][\"Country Name\"] = df[\"Country Name\"].replace({\"Viet Nam\": \"Vietnam\"}, regex=True)\n",
    "\n",
    "api_pop, api_gdp, api_elec, api_rural = data_frames"
   ]
  },
  {
   "cell_type": "code",
   "execution_count": null,
   "metadata": {},
   "outputs": [],
   "source": [
    "api_pop.shape"
   ]
  },
  {
   "cell_type": "code",
   "execution_count": null,
   "metadata": {},
   "outputs": [],
   "source": [
    "# List of DataFrames and their corresponding API data\n",
    "dfs = [df1, df2, df3, df4]\n",
    "apis = [api_pop, api_gdp, api_elec, api_rural]\n",
    "\n",
    "# Merge each DataFrame with its corresponding API data\n",
    "for i in range(len(dfs)):\n",
    "    dfs[i] = dfs[i].merge(apis[i], on=['Country Name', 'Country Code'])\n",
    "\n",
    "df1, df2, df3, df4 = dfs"
   ]
  },
  {
   "cell_type": "code",
   "execution_count": null,
   "metadata": {},
   "outputs": [],
   "source": [
    "df1"
   ]
  },
  {
   "cell_type": "code",
   "execution_count": null,
   "metadata": {},
   "outputs": [],
   "source": [
    "dfs = [df1, df2, df3, df4]\n",
    "for i, df in enumerate(dfs):\n",
    "    if i == 2:\n",
    "        df = fill_missing_values_elec(df)\n",
    "    df = fill_missing_values(df)\n",
    "    dfs[i] = df\n",
    "\n",
    "df1, df2, df3, df4 = dfs"
   ]
  },
  {
   "cell_type": "code",
   "execution_count": null,
   "metadata": {},
   "outputs": [],
   "source": [
    "data_labels = [\"Mystery Data\", \"GDP Data\", \"Electricity Data\", \"Rural Population Data\"]\n",
    "dfs = [df1, df2, df3, df4]\n",
    "\n",
    "for label, df in zip(data_labels, dfs):\n",
    "    print(f\"{label}: {df.shape}\")\n",
    "    display(df.head())\n"
   ]
  },
  {
   "cell_type": "code",
   "execution_count": null,
   "metadata": {},
   "outputs": [],
   "source": [
    "dataframes = [df1, df2, df3, df4]\n",
    "value_vars = [\"Population\", \"GDP\", \"Electricity Access Percent\", \"Rural Population Percent\"]\n",
    "melted_dfs = [\"myst\", \"gdp\", \"elec\", \"rural\"]\n",
    "\n",
    "for df, value_var, melted_df in zip(dataframes, value_vars, melted_dfs):\n",
    "    globals()[melted_df] = perform_melt(df, value_var)"
   ]
  },
  {
   "cell_type": "code",
   "execution_count": null,
   "metadata": {},
   "outputs": [],
   "source": [
    "for df in [myst, gdp, elec, rural]:\n",
    "    print(df.isnull().sum())\n"
   ]
  },
  {
   "cell_type": "code",
   "execution_count": null,
   "metadata": {},
   "outputs": [],
   "source": [
    "for df_name in [\"myst\", \"gdp\", \"elec\", \"rural\"]:\n",
    "    globals()[df_name] = convert_year(globals()[df_name])\n"
   ]
  },
  {
   "cell_type": "code",
   "execution_count": null,
   "metadata": {},
   "outputs": [],
   "source": [
    "def line_plot(df, column_name, countries):\n",
    "    filtered_df = df[df['Country Name'].isin(countries)]\n",
    "    \n",
    "    plt.figure(figsize=(6, 4))\n",
    "    for country, data in filtered_df.groupby('Country Name'):\n",
    "        plt.plot(data['Year'], data[column_name], label=country)\n",
    "    \n",
    "    plt.title(f\"{column_name} by Country\")\n",
    "    plt.xlabel(\"Year\")\n",
    "    plt.ylabel(column_name)\n",
    "    plt.legend()\n",
    "    plt.show()"
   ]
  },
  {
   "cell_type": "code",
   "execution_count": null,
   "metadata": {},
   "outputs": [],
   "source": [
    "negara = ['Afghanistan', 'Albania', 'Honduras']\n",
    "line_plot(gdp, 'GDP', negara)"
   ]
  },
  {
   "cell_type": "code",
   "execution_count": null,
   "metadata": {},
   "outputs": [],
   "source": [
    "dfs = [myst, gdp, elec, rural]\n",
    "\n",
    "for label, df in zip(data_labels, dfs):\n",
    "    print(f\"{label}: {df.shape}\")\n",
    "    display(df.head())"
   ]
  },
  {
   "cell_type": "markdown",
   "metadata": {},
   "source": [
    "### 2.3 Process Population Data"
   ]
  },
  {
   "cell_type": "code",
   "execution_count": null,
   "metadata": {},
   "outputs": [],
   "source": [
    "# Preprocessing Population Dataframes\n",
    "p1 = clean_columns(p1)\n",
    "\n",
    "p2 = p2.rename(columns={'Country_Name': 'Country Name', 'Country_Code': 'Country Code', 'Indicator_Name': 'Indicator Name', 'Indicator_Code': 'Indicator Code'})\n",
    "p2 = clean_columns(p2)\n",
    "\n",
    "p3.columns = ['Country Name', 'Country Code', 'Year', 'Population']\n",
    "p3.replace('', np.nan, inplace=True)\n",
    "p3 = p3.astype({'Country Name': str, 'Country Code': str, 'Year': int, 'Population': float})\n",
    "p3 = p3.pivot(index=['Country Name', 'Country Code'], columns='Year', values='Population').reset_index()\n",
    "p3.columns.name = None\n",
    "\n",
    "p4 = clean_columns(p4)"
   ]
  },
  {
   "cell_type": "code",
   "execution_count": null,
   "metadata": {},
   "outputs": [],
   "source": [
    "dfs = [p1, p2, p3, p4]\n",
    "\n",
    "for df in dfs:\n",
    "    print(df.shape)"
   ]
  },
  {
   "cell_type": "code",
   "execution_count": null,
   "metadata": {},
   "outputs": [],
   "source": [
    "#Update Dataframes\n",
    "p1.update(p2[p2['Country Name'].isin(p1['Country Name'])])\n",
    "p1.update(p3[p3['Country Name'].isin(p1['Country Name'])])\n",
    "p1.update(p4[p4['Country Name'].isin(p1['Country Name'])])"
   ]
  },
  {
   "cell_type": "code",
   "execution_count": null,
   "metadata": {},
   "outputs": [],
   "source": [
    "# Merge Dataframes\n",
    "merged_pop = pd.merge(p1, api_pop, on=['Country Name','Country Code'])\n",
    "print('Duplicate values: ', merged_pop['Country Name'].duplicated().sum())\n",
    "print(\"Population Data:\", merged_pop.shape)\n",
    "display(merged_pop.head())"
   ]
  },
  {
   "cell_type": "code",
   "execution_count": null,
   "metadata": {},
   "outputs": [],
   "source": [
    "merged_pop[merged_pop.isna().any(axis=1)]"
   ]
  },
  {
   "cell_type": "code",
   "execution_count": null,
   "metadata": {},
   "outputs": [],
   "source": [
    "# Fill missing values\n",
    "merged_pop.drop_duplicates(subset=['Country Name'], inplace=True)\n",
    "fill_missing_values(merged_pop)\n",
    "pop = perform_melt(merged_pop, \"Population\")\n",
    "pop = convert_year(pop)"
   ]
  },
  {
   "cell_type": "code",
   "execution_count": null,
   "metadata": {},
   "outputs": [],
   "source": [
    "merged_pop[merged_pop.isna().any(axis=1)]"
   ]
  },
  {
   "cell_type": "code",
   "execution_count": null,
   "metadata": {},
   "outputs": [],
   "source": [
    "pop"
   ]
  },
  {
   "cell_type": "markdown",
   "metadata": {},
   "source": [
    "### 2.4 Process Projects Data"
   ]
  },
  {
   "cell_type": "code",
   "execution_count": null,
   "metadata": {},
   "outputs": [],
   "source": [
    "# Drop Columns\n",
    "kolom = ['id', 'regionname', 'countryname', 'envassesmentcategorycode', 'status', 'project_name', 'boardapprovaldate', 'closingdate', 'lendprojectcost', 'sector1']\n",
    "proj = proj[kolom]"
   ]
  },
  {
   "cell_type": "code",
   "execution_count": null,
   "metadata": {},
   "outputs": [],
   "source": [
    "print(\"Total rows: \", proj.shape[0])\n",
    "print(\"Duplicated values: \", proj.duplicated().sum())\n",
    "print(proj.isna().sum() / proj.shape[0] * 100)"
   ]
  },
  {
   "cell_type": "code",
   "execution_count": null,
   "metadata": {},
   "outputs": [],
   "source": [
    "# Fill Missing Values\n",
    "proj['countryname'] = proj['countryname'].str.split(';').str[0]\n",
    "proj.fillna({'envassesmentcategorycode': '-'}, inplace=True)\n",
    "proj['lendprojectcost'] = pd.to_numeric(proj['lendprojectcost'].str.replace(',', ''))\n",
    "proj.fillna({'lendprojectcost':0}, inplace=True)\n",
    "proj.fillna({'status': proj['status'].mode()[0]}, inplace=True)"
   ]
  },
  {
   "cell_type": "code",
   "execution_count": null,
   "metadata": {},
   "outputs": [],
   "source": [
    "# Fill Missing Values\n",
    "proj['boardapprovaldate'] = pd.to_datetime(proj['boardapprovaldate'])\n",
    "proj['boardapprovaldate'] = proj['boardapprovaldate'].bfill()\n",
    "\n",
    "proj['closingdate'] = pd.to_datetime(proj['closingdate'])\n",
    "proj['closingdate'] = proj['closingdate'].bfill()"
   ]
  },
  {
   "cell_type": "code",
   "execution_count": null,
   "metadata": {},
   "outputs": [],
   "source": [
    "# Replace And Regex\n",
    "proj['sector1'] = proj['sector1'].replace('!$!0', 'Other')\n",
    "proj['sector1'] = proj['sector1'].replace('!.+', '', regex=True)\n",
    "proj['sector1'] = proj['sector1'].replace('^(\\(Historic\\))', '', regex=True)\n",
    "proj['sector1'] = proj['sector1'].str.extract(r'^([^!$]+)')"
   ]
  },
  {
   "cell_type": "code",
   "execution_count": null,
   "metadata": {},
   "outputs": [],
   "source": [
    "print(proj.isnull().sum())"
   ]
  },
  {
   "cell_type": "code",
   "execution_count": null,
   "metadata": {},
   "outputs": [],
   "source": [
    "proj.head()"
   ]
  },
  {
   "cell_type": "code",
   "execution_count": null,
   "metadata": {},
   "outputs": [],
   "source": [
    "project_group = proj[['countryname', 'boardapprovaldate', 'lendprojectcost']]"
   ]
  },
  {
   "cell_type": "markdown",
   "metadata": {},
   "source": [
    "## 3. Further Data Transformation"
   ]
  },
  {
   "cell_type": "markdown",
   "metadata": {},
   "source": [
    "### 3.2 Check Outliers"
   ]
  },
  {
   "cell_type": "markdown",
   "metadata": {},
   "source": [
    "#### a. Projects Data"
   ]
  },
  {
   "cell_type": "code",
   "execution_count": null,
   "metadata": {},
   "outputs": [],
   "source": [
    "# Check Outlier Projects_Data\n",
    "fig = px.scatter(project_group, y=\"lendprojectcost\", hover_name='countryname')\n",
    "fig.show()"
   ]
  },
  {
   "cell_type": "markdown",
   "metadata": {},
   "source": [
    "#### b. Population & GDP Data"
   ]
  },
  {
   "cell_type": "code",
   "execution_count": null,
   "metadata": {},
   "outputs": [],
   "source": [
    "gdp_myst = pd.merge(gdp, myst, on=['Country Name', 'Country Code', 'Year'])\n",
    "gdp_myst.head()"
   ]
  },
  {
   "cell_type": "code",
   "execution_count": null,
   "metadata": {},
   "outputs": [],
   "source": [
    "from sklearn.linear_model import LinearRegression\n",
    "\n",
    "model = LinearRegression()\n",
    "model.fit(gdp_myst['Population'].values.reshape(-1, 1), gdp_myst['GDP'].values.reshape(-1, 1))\n",
    "inputs = np.linspace(1, 8e9, num=50).reshape(-1, 1)\n",
    "predictions = model.predict(inputs)\n",
    "\n",
    "fig = px.scatter(gdp_myst, x='Population', y='GDP', hover_name='Country Name')\n",
    "fig.add_scatter(x=inputs.flatten(), y=predictions.flatten(), mode='lines', name='Linear Regression', line=dict(color='red', width=2))\n",
    "fig.update_xaxes(title_text='Population')\n",
    "fig.update_yaxes(title_text='GDP')\n",
    "\n",
    "fig.show()\n"
   ]
  },
  {
   "cell_type": "code",
   "execution_count": null,
   "metadata": {},
   "outputs": [],
   "source": [
    "country_not_found = []\n",
    "\n",
    "for country_code in gdp_myst['Country Code'].drop_duplicates().sort_values():\n",
    "    try: \n",
    "        alpha_3 = countries.lookup(country_code).alpha_3\n",
    "    except LookupError:\n",
    "        country_not_found.append(country_code)\n",
    "\n",
    "country_name = gdp_myst[['Country Name', 'Country Code']].drop_duplicates().sort_values('Country Name')\n",
    "\n",
    "for country_code in country_not_found:\n",
    "    country_name = gdp_myst.loc[gdp_myst['Country Code'] == country_code, 'Country Name'].iloc[0]\n",
    "    print(f\"{country_name}\", end=\", \")\n"
   ]
  },
  {
   "cell_type": "code",
   "execution_count": null,
   "metadata": {},
   "outputs": [],
   "source": [
    "clean_gdp_myst = gdp_myst[~gdp_myst['Country Code'].isin(country_not_found)]"
   ]
  },
  {
   "cell_type": "code",
   "execution_count": null,
   "metadata": {},
   "outputs": [],
   "source": [
    "model.fit(clean_gdp_myst['Population'].values.reshape(-1, 1), clean_gdp_myst['GDP'].values.reshape(-1, 1))\n",
    "\n",
    "inputs = np.linspace(1, 8e9, num=50).reshape(-1, 1)\n",
    "predictions = model.predict(inputs)\n",
    "\n",
    "fig = px.scatter(clean_gdp_myst, x='Population', y='GDP', hover_name='Country Name')\n",
    "fig.add_scatter(x=inputs.flatten(), y=predictions.flatten(), mode='lines', name='Linear Regression', line=dict(color='red', width=2))\n",
    "fig.update_xaxes(title_text='Population')\n",
    "fig.update_yaxes(title_text='GDP')\n",
    "\n",
    "fig.show()"
   ]
  },
  {
   "cell_type": "markdown",
   "metadata": {},
   "source": [
    "### 3.3 Dummy Variables"
   ]
  },
  {
   "cell_type": "code",
   "execution_count": null,
   "metadata": {},
   "outputs": [],
   "source": [
    "status = proj.copy()\n",
    "print(status['status'].sort_values().unique())"
   ]
  },
  {
   "cell_type": "code",
   "execution_count": null,
   "metadata": {},
   "outputs": [],
   "source": [
    "dummies = pd.get_dummies(status['status'])\n",
    "dummies.head()"
   ]
  },
  {
   "cell_type": "code",
   "execution_count": null,
   "metadata": {},
   "outputs": [],
   "source": [
    "status['year'] = status['boardapprovaldate'].dt.year\n",
    "year = status[['year', 'lendprojectcost']]\n",
    "years_project = pd.concat([year, dummies], axis=1)\n",
    "years_project"
   ]
  },
  {
   "cell_type": "code",
   "execution_count": null,
   "metadata": {},
   "outputs": [],
   "source": [
    "country_name = status[['countryname']]\n",
    "country_project = pd.concat([country_name, dummies], axis=1)\n",
    "country_project"
   ]
  },
  {
   "cell_type": "markdown",
   "metadata": {},
   "source": [
    "### 3.4 Feature Engineering"
   ]
  },
  {
   "cell_type": "code",
   "execution_count": null,
   "metadata": {},
   "outputs": [],
   "source": [
    "project_group['boardapprovaldate'] = pd.to_datetime(project_group['boardapprovaldate']).dt.year\n",
    "project_group = project_group[project_group['boardapprovaldate'] >= 1960].sort_values('boardapprovaldate')\n",
    "df_project = project_group.groupby(['countryname', 'boardapprovaldate'])['lendprojectcost'].sum().reset_index()\n",
    "print(\"total rows : \", df_project.shape[0])\n",
    "df_project"
   ]
  },
  {
   "cell_type": "code",
   "execution_count": null,
   "metadata": {},
   "outputs": [],
   "source": [
    "import country_converter as coco\n",
    "cc = coco.CountryConverter()\n",
    "match_these = pd.Series(df_project['countryname'].tolist())\n",
    "short_name = cc.pandas_convert(series=match_these, to='name_short', not_found=None)\n",
    "df_project['Short Name'] = short_name"
   ]
  },
  {
   "cell_type": "code",
   "execution_count": null,
   "metadata": {},
   "outputs": [],
   "source": [
    "df_project"
   ]
  },
  {
   "cell_type": "code",
   "execution_count": null,
   "metadata": {},
   "outputs": [],
   "source": [
    "proj_pop = df_project.merge(\n",
    "    merged_pop,\n",
    "    how='left',\n",
    "    left_on='Short Name',\n",
    "    right_on='Country Name'\n",
    ")[[\n",
    "    'Country Name', 'Country Code', 'boardapprovaldate', 'lendprojectcost'\n",
    "]]\n",
    "proj_pop.dropna(subset=['Country Name', 'Country Code'], inplace=True)\n",
    "proj_pop.rename(columns={'boardapprovaldate':'year', 'lendprojectcost': 'projectcost'}, inplace=True)\n",
    "proj_pop.reset_index(drop=True)"
   ]
  },
  {
   "cell_type": "code",
   "execution_count": null,
   "metadata": {},
   "outputs": [],
   "source": [
    "gdp_pop = gdp.merge(pop, on=['Country Name', 'Country Code', 'Year'])\n",
    "gdp_pop['gdppercapita'] = gdp_pop['GDP'] / gdp_pop['Population']\n",
    "rural_elec = rural.merge(elec, on=['Country Name', 'Country Code', 'Year'])\n",
    "proj_pop.columns = ['countryname', 'countrycode','year', 'projectcost']\n",
    "gdp_pop.columns = ['countryname', 'countrycode', 'year', 'gdp', 'population', 'gdppercapita']\n",
    "rural_elec.columns = ['countryname', 'countrycode', 'year', 'ruralpopulationpercent', 'electricityaccesspercent']\n",
    "print(gdp_pop.shape)\n",
    "print(rural_elec.shape)"
   ]
  },
  {
   "cell_type": "code",
   "execution_count": null,
   "metadata": {},
   "outputs": [],
   "source": [
    "df_merge = gdp_pop.merge(rural_elec, on=['countryname', 'countrycode', 'year'])\n",
    "df_country = df_merge.merge(proj_pop, on=['countryname', 'countrycode', 'year'], how='left')"
   ]
  },
  {
   "cell_type": "code",
   "execution_count": null,
   "metadata": {},
   "outputs": [],
   "source": [
    "df_country.fillna(0, inplace=True)\n",
    "df_country.drop_duplicates(subset=['countryname', 'countrycode', 'year'], inplace=True)\n",
    "df_country.reset_index(drop=True)"
   ]
  },
  {
   "cell_type": "markdown",
   "metadata": {},
   "source": [
    "### 3.5 Scaling Features"
   ]
  },
  {
   "cell_type": "code",
   "execution_count": null,
   "metadata": {},
   "outputs": [],
   "source": [
    "std_scaler = StandardScaler()\n",
    "scaled_df = df_country.copy()\n",
    "\n",
    "scaled_df['gdp_scaled'] = std_scaler.fit_transform(scaled_df[['gdp']])\n",
    "scaled_df['population_scaled'] = std_scaler.fit_transform(scaled_df[['population']])\n",
    "scaled_df['gdppercapita_scaled'] = std_scaler.fit_transform(scaled_df[['gdppercapita']])\n",
    "scaled_df['ruralpopulation_scaled'] = std_scaler.fit_transform(scaled_df[['ruralpopulationpercent']])\n",
    "scaled_df['electricityaccess_scaled'] = std_scaler.fit_transform(scaled_df[['electricityaccesspercent']])\n",
    "\n",
    "clm = ['gdp_scaled', 'population_scaled', 'gdppercapita_scaled', 'ruralpopulation_scaled', 'electricityaccess_scaled']\n",
    "scaled_df = scaled_df[clm]"
   ]
  },
  {
   "cell_type": "code",
   "execution_count": null,
   "metadata": {},
   "outputs": [],
   "source": [
    "scaled_df.head()"
   ]
  },
  {
   "cell_type": "markdown",
   "metadata": {},
   "source": [
    "## 4. Data Load"
   ]
  },
  {
   "cell_type": "markdown",
   "metadata": {},
   "source": [
    "#### 4.1 Save to CSV"
   ]
  },
  {
   "cell_type": "code",
   "execution_count": null,
   "metadata": {},
   "outputs": [],
   "source": [
    "df_country.to_csv('../data_final/world_data.csv', index=False)"
   ]
  },
  {
   "cell_type": "markdown",
   "metadata": {},
   "source": [
    "#### 4.2 Load to Database"
   ]
  },
  {
   "cell_type": "code",
   "execution_count": null,
   "metadata": {},
   "outputs": [],
   "source": [
    "connection = sqlite3.connect('../data_final/world_data.db')\n",
    "df_country.to_sql('world_data', con=connection, if_exists='replace', index=False)"
   ]
  },
  {
   "cell_type": "markdown",
   "metadata": {},
   "source": [
    "## Data Visualization"
   ]
  },
  {
   "cell_type": "code",
   "execution_count": null,
   "metadata": {},
   "outputs": [],
   "source": [
    "load_dotenv()\n",
    "my_api = os.getenv(\"NAGA_AI_KEY\")\n",
    "client = OpenAI(\n",
    "    api_key= my_api,\n",
    "    base_url='https://api.naga.ac/v1'\n",
    "    )\n",
    "\n",
    "def generate(prompt, model=\"gpt-3.5-turbo\", temperature=0, max_tokens=1000):\n",
    "    response = client.chat.completions.create(\n",
    "        model=model,\n",
    "        temperature=temperature,\n",
    "        max_tokens=max_tokens,\n",
    "        messages=[\n",
    "            {\n",
    "                \"role\": \"user\",\n",
    "                \"content\": prompt,\n",
    "            },\n",
    "        ],\n",
    "    )\n",
    "    return response.choices[0].message.content"
   ]
  },
  {
   "cell_type": "code",
   "execution_count": null,
   "metadata": {},
   "outputs": [],
   "source": [
    "df_country = pd.read_csv('../data_final/world_data.csv')\n",
    "daftar_kolom = df_country.columns.tolist()\n",
    "asean_countries = [\"Indonesia\", \"Singapore\", \"Malaysia\", \"Thailand\", \"Vietnam\", \"Philippines\", \"Brunei Darussalam\", \"Cambodia\", \"Lao PDR\", \"Myanmar\", \"Timor-Leste\"]\n",
    "df_asean = df_country[df_country['countryname'].isin(asean_countries)]\n",
    "df_2023 = df_country[df_country['year'] == 2023]\n",
    "columns = ['countryname', 'countrycode','year', 'projectcost']\n",
    "df_project = df_country[columns]"
   ]
  },
  {
   "cell_type": "code",
   "execution_count": null,
   "metadata": {},
   "outputs": [],
   "source": [
    "prompt_1 = (\n",
    "    f\"saya memiliki dataset dengan kolom: {str(daftar_kolom)}. berikan analisis saya menarik untuk visualisasi yaitu analisis statistik, distribusi, korelasi dan tren\"\n",
    ")"
   ]
  },
  {
   "cell_type": "code",
   "execution_count": null,
   "metadata": {},
   "outputs": [],
   "source": [
    "analisis = generate(prompt_1)\n",
    "print(analisis)"
   ]
  },
  {
   "cell_type": "markdown",
   "metadata": {},
   "source": [
    "### Analisis Statistik Deskriptif"
   ]
  },
  {
   "cell_type": "markdown",
   "metadata": {},
   "source": [
    "#### Statistik Deskriptif"
   ]
  },
  {
   "cell_type": "code",
   "execution_count": null,
   "metadata": {},
   "outputs": [],
   "source": [
    "print(\"\\nStatistik Deskriptif tahun 2023:\")\n",
    "display(df_2023.describe())"
   ]
  },
  {
   "cell_type": "markdown",
   "metadata": {},
   "source": [
    "#### Rata-Rata GDP Per Kapita"
   ]
  },
  {
   "cell_type": "code",
   "execution_count": null,
   "metadata": {},
   "outputs": [],
   "source": [
    "avg_gdp_per_capita = df_asean.groupby('countryname')['gdppercapita'].mean().sort_values(ascending=False)\n",
    "print(\"\\nRata-rata GDP Per Kapita tiap Negara di ASEAN:\")\n",
    "print(avg_gdp_per_capita)"
   ]
  },
  {
   "cell_type": "markdown",
   "metadata": {},
   "source": [
    "#### Rata-Rata Persentase Populasi Dengan Akses Listrik"
   ]
  },
  {
   "cell_type": "code",
   "execution_count": null,
   "metadata": {},
   "outputs": [],
   "source": [
    "avg_electricity_access = df_asean.groupby('countryname')['electricityaccesspercent'].mean().sort_values(ascending=False)\n",
    "print(\"\\nPersentase Populasi dengan Akses Listrik tiap Negara di ASEAN:\")\n",
    "print(avg_electricity_access)"
   ]
  },
  {
   "cell_type": "markdown",
   "metadata": {},
   "source": [
    "#### Rata-Rata Persentase Populasi Pedesaan"
   ]
  },
  {
   "cell_type": "code",
   "execution_count": null,
   "metadata": {},
   "outputs": [],
   "source": [
    "avg_rural_population = df_asean.groupby('countryname')['ruralpopulationpercent'].mean().sort_values(ascending=False)\n",
    "print(\"\\nPersentase Populasi dengan Rural Population:\")\n",
    "print(avg_rural_population)"
   ]
  },
  {
   "cell_type": "markdown",
   "metadata": {},
   "source": [
    "### Analisis Distribusi"
   ]
  },
  {
   "cell_type": "markdown",
   "metadata": {},
   "source": [
    "#### hisplot distribusi data negara"
   ]
  },
  {
   "cell_type": "code",
   "execution_count": null,
   "metadata": {},
   "outputs": [],
   "source": [
    "fig, axes = plt.subplots(2, 3, figsize=(18, 12))\n",
    "\n",
    "sns.histplot(data=df_2023, x='gdp', bins=20, kde=True, ax=axes[0, 0])\n",
    "axes[0, 0].set_title('Distribusi GDP')\n",
    "axes[0, 0].set_xlabel('GDP')\n",
    "axes[0, 0].set_ylabel('Jumlah Negara')\n",
    "\n",
    "sns.histplot(data=df_2023, x='population', bins=20, kde=True, ax=axes[0, 1])\n",
    "axes[0, 1].set_title('Distribusi Populasi')\n",
    "axes[0, 1].set_xlabel('Populasi')\n",
    "axes[0, 1].set_ylabel('Jumlah Negara')\n",
    "\n",
    "sns.histplot(data=df_2023, x='gdppercapita', bins=20, kde=True, ax=axes[0, 2])\n",
    "axes[0, 2].set_title('Distribusi GDP per Kapita')\n",
    "axes[0, 2].set_xlabel('GDP per Kapita')\n",
    "axes[0, 2].set_ylabel('Jumlah Negara')\n",
    "\n",
    "sns.histplot(data=df_2023, x='ruralpopulationpercent', bins=20, kde=True, ax=axes[1, 0])\n",
    "axes[1, 0].set_title('Distribusi Persentase Penduduk Pedesaan')\n",
    "axes[1, 0].set_xlabel('Persentase Penduduk Pedesaan')\n",
    "axes[1, 0].set_ylabel('Jumlah Negara')\n",
    "\n",
    "sns.histplot(data=df_2023, x='electricityaccesspercent', bins=20, kde=True, ax=axes[1, 1])\n",
    "axes[1, 1].set_title('Distribusi Persentase Penduduk dengan Akses Listrik')\n",
    "axes[1, 1].set_xlabel('Persentase Penduduk dengan Akses Listrik')\n",
    "axes[1, 1].set_ylabel('Jumlah Negara')\n",
    "\n",
    "fig.delaxes(axes[1, 2])\n",
    "fig.suptitle('Distribusi Data Negara di Tahun 2023', fontsize=20)\n",
    "plt.tight_layout()\n",
    "plt.show()\n",
    "\n"
   ]
  },
  {
   "cell_type": "markdown",
   "metadata": {},
   "source": [
    "#### uji normalitas "
   ]
  },
  {
   "cell_type": "code",
   "execution_count": null,
   "metadata": {},
   "outputs": [],
   "source": [
    "indo = df_country[df_country['countryname'] == 'Indonesia']\n",
    "indo.reset_index(drop=True, inplace=True)"
   ]
  },
  {
   "cell_type": "code",
   "execution_count": null,
   "metadata": {},
   "outputs": [],
   "source": [
    "indo"
   ]
  },
  {
   "cell_type": "code",
   "execution_count": null,
   "metadata": {},
   "outputs": [],
   "source": [
    "from scipy import stats\n",
    "\n",
    "def normality_test(data, column):\n",
    "    column_data = data[column]\n",
    "    stat, p_value = stats.shapiro(column_data)\n",
    "\n",
    "    # Menafsirkan hasil uji\n",
    "    alpha = 0.05\n",
    "    if p_value > alpha:\n",
    "        result = \"Data kolom '{}' terdistribusi normal (tidak bisa menolak H0)\".format(column)\n",
    "    else:\n",
    "        result = \"Data kolom '{}' tidak terdistribusi normal (menolak H0)\".format(column)\n",
    "\n",
    "    return result\n",
    "\n",
    "print(normality_test(indo, 'gdp'))\n",
    "print(normality_test(indo, 'population'))\n",
    "print(normality_test(indo, 'gdppercapita'))\n",
    "print(normality_test(indo, 'ruralpopulationpercent'))\n",
    "print(normality_test(indo, 'electricityaccesspercent'))"
   ]
  },
  {
   "cell_type": "markdown",
   "metadata": {},
   "source": [
    "### Analisis Korelasi"
   ]
  },
  {
   "cell_type": "markdown",
   "metadata": {},
   "source": [
    "#### Heatmap korelasi"
   ]
  },
  {
   "cell_type": "code",
   "execution_count": null,
   "metadata": {},
   "outputs": [],
   "source": [
    "plt.figure(figsize=(10, 6))\n",
    "heatmap = sns.heatmap(scaled_df.corr(), annot=True, cmap='coolwarm', fmt=\".2f\", linewidths=.5)\n",
    "plt.title('Heatmap Korelasi')\n",
    "plt.show()"
   ]
  },
  {
   "cell_type": "markdown",
   "metadata": {},
   "source": [
    "#### Scatter plot GDP dan Populasi"
   ]
  },
  {
   "cell_type": "code",
   "execution_count": null,
   "metadata": {},
   "outputs": [],
   "source": [
    "\n",
    "fig = px.scatter(scaled_df, y='gdp_scaled', x='population_scaled', trendline='ols', trendline_color_override='red', title='Korelasi antara GDP dan Populasi')\n",
    "fig.update_layout(title_x=0.5)\n",
    "fig.show()"
   ]
  },
  {
   "cell_type": "markdown",
   "metadata": {},
   "source": [
    "#### Scatter plot GDP dan Populasi"
   ]
  },
  {
   "cell_type": "code",
   "execution_count": null,
   "metadata": {},
   "outputs": [],
   "source": [
    "\n",
    "fig2 = px.scatter(scaled_df, y='ruralpopulation_scaled', x='electricityaccess_scaled', trendline='ols', trendline_color_override='red', title='Korelasi antara Persentase Penduduk Pedesaan dan Akses Listrik')\n",
    "fig2.show()"
   ]
  },
  {
   "cell_type": "markdown",
   "metadata": {},
   "source": [
    "### Analisis Time Series"
   ]
  },
  {
   "cell_type": "markdown",
   "metadata": {},
   "source": [
    "#### Plot Tren GDP"
   ]
  },
  {
   "cell_type": "code",
   "execution_count": null,
   "metadata": {},
   "outputs": [],
   "source": [
    "\n",
    "fig = px.line(df_asean, x='year', y='gdp', color='countryname', title='Tren GDP Negara ASEAN',\n",
    "              labels={'gdp': 'GDP (USD)', 'year': 'Tahun', 'countryname': 'Negara'})\n",
    "fig.update_layout(title_x=0.5)\n",
    "fig.show()"
   ]
  },
  {
   "cell_type": "markdown",
   "metadata": {},
   "source": [
    "#### Plot Tren Populasi"
   ]
  },
  {
   "cell_type": "code",
   "execution_count": null,
   "metadata": {},
   "outputs": [],
   "source": [
    "fig = px.line(df_asean, x='year', y='population', color='countryname', title='Tren Populasi Negara ASEAN',\n",
    "              labels={'population': 'Populasi', 'year': 'Tahun', 'countryname': 'Negara'})\n",
    "fig.update_layout(title_x=0.5)\n",
    "fig.show()"
   ]
  },
  {
   "cell_type": "markdown",
   "metadata": {},
   "source": [
    "#### Plot Tren GDP Per Kapita"
   ]
  },
  {
   "cell_type": "code",
   "execution_count": null,
   "metadata": {},
   "outputs": [],
   "source": [
    "\n",
    "fig = px.line(df_asean, x='year', y='gdppercapita', color='countryname', title='Tren GDP Per Kapita Negara ASEAN',\n",
    "              labels={'gdppercapita': 'GDP Per Kapita (USD)', 'year': 'Tahun', 'countryname': 'Negara'})\n",
    "fig.update_layout(title_x=0.5)\n",
    "fig.show()"
   ]
  },
  {
   "cell_type": "markdown",
   "metadata": {},
   "source": [
    "#### Plot Tren Persentase Populasi Dengan Akses Listrik"
   ]
  },
  {
   "cell_type": "code",
   "execution_count": null,
   "metadata": {},
   "outputs": [],
   "source": [
    "\n",
    "fig = px.line(df_asean, x='year', y='electricityaccesspercent', color='countryname', title='Tren Persentase Populasi dengan Akses Listrik Negara ASEAN',\n",
    "              labels={'electricityaccesspercent': 'Persentase Akses Listrik', 'year': 'Tahun', 'countryname': 'Negara'})\n",
    "fig.show()"
   ]
  },
  {
   "cell_type": "markdown",
   "metadata": {},
   "source": [
    "#### Plot Tren Persentase Populasi Pedesaan"
   ]
  },
  {
   "cell_type": "code",
   "execution_count": null,
   "metadata": {},
   "outputs": [],
   "source": [
    "\n",
    "fig = px.line(df_asean, x='year', y='ruralpopulationpercent', color='countryname', title='Tren Persentase Populasi Pedesaan Negara ASEAN',\n",
    "              labels={'ruralpopulationpercent': 'Persentase Populasi Pedesaan', 'year': 'Tahun', 'countryname': 'Negara'})\n",
    "fig.show()"
   ]
  },
  {
   "cell_type": "markdown",
   "metadata": {},
   "source": [
    "#### Plot Tren projectcost"
   ]
  },
  {
   "cell_type": "code",
   "execution_count": null,
   "metadata": {},
   "outputs": [],
   "source": [
    "import plotly.graph_objs as go\n",
    "df_grouped = df_project.groupby('year')['projectcost'].sum().reset_index()\n",
    "\n",
    "# Membuat plot menggunakan Plotly\n",
    "plot_data = go.Bar(x=df_grouped['year'], y=df_grouped['projectcost'])\n",
    "\n",
    "layout = go.Layout(\n",
    "    title='Total Project Cost per Year',\n",
    "    xaxis=dict(title='Year'),\n",
    "    yaxis=dict(title='Total Project Cost')\n",
    ")\n",
    "\n",
    "fig = go.Figure(data=[plot_data], layout=layout)\n",
    "\n",
    "# Menampilkan plot\n",
    "fig.show()"
   ]
  }
 ],
 "metadata": {
  "kernelspec": {
   "display_name": "env",
   "language": "python",
   "name": "python3"
  },
  "language_info": {
   "codemirror_mode": {
    "name": "ipython",
    "version": 3
   },
   "file_extension": ".py",
   "mimetype": "text/x-python",
   "name": "python",
   "nbconvert_exporter": "python",
   "pygments_lexer": "ipython3",
   "version": "3.11.8"
  }
 },
 "nbformat": 4,
 "nbformat_minor": 2
}
